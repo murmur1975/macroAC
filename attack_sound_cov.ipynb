{
 "cells": [
  {
   "cell_type": "markdown",
   "metadata": {},
   "source": [
    "# SFVの6種の通常攻撃のSEの共分散"
   ]
  },
  {
   "cell_type": "markdown",
   "metadata": {},
   "source": [
    "音声で通常攻撃のどの種類の攻撃がヒットしたかを、音声の共分散を用いて判定することを考えます。この音声の判定に基づいて、ヒット確認を実装します。リアルタイム性をとりあえずは無視して、まずは基本的な性質を確認します。"
   ]
  },
  {
   "cell_type": "markdown",
   "metadata": {},
   "source": [
    "### 準備\n",
    "通常攻撃の音声を録音し、ファイルとして用意して`./SFV_SE/`フォルダに格納しておきます。"
   ]
  },
  {
   "cell_type": "code",
   "execution_count": 4,
   "metadata": {
    "scrolled": true
   },
   "outputs": [],
   "source": [
    "import wave\n",
    "from scipy import int16\n",
    "import matplotlib.pyplot as plt\n",
    "import numpy as np\n",
    "import seaborn as sb\n",
    "import warnings\n",
    "\n",
    "folder = './SFV_SE/'\n",
    "filename = ('LP.wav', 'LK.wav', 'MP.wav', 'MK.wav', 'HP.wav', 'HK.wav')\n",
    "\n",
    "# WAVファイルを開く\n",
    "wr = [wave.open(folder + k, 'rb') for k in filename]\n",
    "\n",
    "# データの読み込み\n",
    "data = [k.readframes(k.getnframes()) for k in wr]\n",
    "\n",
    "# WAVファイルを閉じる\n",
    "[k.close() for k in wr]\n",
    "\n",
    "# 文字型から数値型に変換\n",
    "num_data = [np.frombuffer(k, dtype=int16) for k in data]\n",
    "num_data[5] = num_data[5][0:-1]  # HKのデータが何故か1個多かったので揃える"
   ]
  },
  {
   "cell_type": "markdown",
   "metadata": {},
   "source": [
    "これで音声を使用する準備が整いました。次に、音声信号の分散を計算したときに1になるように、音声信号をその信号の標準偏差で除算することによって、正規化します。"
   ]
  },
  {
   "cell_type": "markdown",
   "metadata": {},
   "source": [
    "### 信号の正規化"
   ]
  },
  {
   "cell_type": "code",
   "execution_count": 5,
   "metadata": {},
   "outputs": [],
   "source": [
    "# 分散が1となるよう正規化\n",
    "v = [np.std(k) for k in num_data]\n",
    "num_data = [k/j for k,j in zip(num_data, v)]"
   ]
  },
  {
   "cell_type": "markdown",
   "metadata": {},
   "source": [
    "次に、[分散共分散行列$\\Sigma$](https://ja.wikipedia.org/wiki/%E5%88%86%E6%95%A3%E5%85%B1%E5%88%86%E6%95%A3%E8%A1%8C%E5%88%97)を計算します。$\\Sigma$は半正定値行列で、対角成分に分散、それ以外は共分散が並ぶ行列です。信号を正規化しているので、対角成分は理論上1が並びます。また、正規化しているので、共分散の絶対値は1未満になります。共分散の値は、信号同士がどの程度似ているかを表す指標として使われます。正規化してありますので、共分散同士を比べることができるようになっています。"
   ]
  },
  {
   "cell_type": "markdown",
   "metadata": {},
   "source": [
    "### $\\Sigma$の計算"
   ]
  },
  {
   "cell_type": "code",
   "execution_count": 11,
   "metadata": {},
   "outputs": [
    {
     "name": "stdout",
     "output_type": "stream",
     "text": [
      "[[ 1.          0.07789262  0.03793675 -0.0813338   0.03095172 -0.00505461]\n",
      " [ 0.07789262  1.          0.15437293 -0.03659306 -0.00957943  0.02120905]\n",
      " [ 0.03793675  0.15437293  1.         -0.05912554 -0.10120196 -0.0727616 ]\n",
      " [-0.0813338  -0.03659306 -0.05912554  1.         -0.07413925  0.04748181]\n",
      " [ 0.03095172 -0.00957943 -0.10120196 -0.07413925  1.         -0.03320842]\n",
      " [-0.00505461  0.02120905 -0.0727616   0.04748181 -0.03320842  1.        ]]\n"
     ]
    }
   ],
   "source": [
    "# 信号を行列形式に並べる（これもリスト内包表現にしたいがわかんない）\n",
    "A = num_data[0]\n",
    "for k in range(1,6):\n",
    "    A = np.vstack([A,num_data[k]])\n",
    "\n",
    "# 分散共分散行列を計算（標本分散）\n",
    "Sigma = np.cov(A, rowvar=1, bias=1)\n",
    "print(Sigma)"
   ]
  },
  {
   "cell_type": "markdown",
   "metadata": {},
   "source": [
    "対角成分が1ということは、たとえば弱Pの音声$x_{LP}$同士の共分散（同じ信号なのでこれは$x_{LP}$の分散）が1ということです。したがって、もし弱Pの音声$x_{LP}$を用意しておいて、入力音声$x$が弱Pだった時、**それらの音声波形がピッタリ重なっている場合に、$x_{LP}$と$x$の共分散$\\sigma$が1になる**ということです。\n",
    "\n",
    "この性質を用いれば、**$x$がなんの音声だったのか、どのタイミングでその音声が発されたのかがわかる**ということです。ということで、$\\sigma$が1のときに次の攻撃を出すようにプログラムすれば、めでたく目的のヒット確認ができることになります。ただ、実際は別の音が重なったりしているので、1より小さい値になるはずです。そこで、どの程度の値をしきい値とするかを決めるために、共分散の最大値を見ておくことにします。"
   ]
  },
  {
   "cell_type": "markdown",
   "metadata": {},
   "source": [
    "### 共分散のうちの最大値"
   ]
  },
  {
   "cell_type": "code",
   "execution_count": 12,
   "metadata": {
    "scrolled": true
   },
   "outputs": [
    {
     "name": "stdout",
     "output_type": "stream",
     "text": [
      "Max covariance in Sigma : 0.15437292715957265\n"
     ]
    }
   ],
   "source": [
    "print('Max covariance in Sigma :',np.max(Sigma[Sigma<0.999]))  # 理論上1だが・・・"
   ]
  },
  {
   "cell_type": "markdown",
   "metadata": {},
   "source": [
    "$\\Sigma$の対角成分は、1未満になったりするようですので、0.999未満の値を対象にしました。最大の共分散は0.15程度となっているようです。もし、しきい値を0.15程度にすると、誤った判定がなされる可能性があるということです。したがって、1と0.15の間の適当な値をしきい値として、それ以上の値が検出されたら、ヒット判定を返せばいいことになります。具体的な値は、試しながら決めていきます。最後に可視化してみます。"
   ]
  },
  {
   "cell_type": "markdown",
   "metadata": {},
   "source": [
    "### Sigmaをプロット"
   ]
  },
  {
   "cell_type": "code",
   "execution_count": 16,
   "metadata": {},
   "outputs": [
    {
     "data": {
      "image/png": "[encoded data removed]",
      "text/plain": [
       "<Figure size 432x288 with 1 Axes>"
      ]
     },
     "metadata": {},
     "output_type": "display_data"
    }
   ],
   "source": [
    "label = ('LP', 'LK', 'MP', 'MK', 'HP', 'HK')\n",
    "x = range(1,7)\n",
    "y = range(1,7)\n",
    "xx, yy = np.meshgrid(x, y)\n",
    "sb.set()\n",
    "fig, ax = plt.subplots()\n",
    "C = 2e3  # グラフ表示のための定数（見やすいように適当に決める）\n",
    "#ax.scatter(xx, yy, s=abs(Sigma)*C, alpha=0.5)  # 本来はこれ\n",
    "warnings.simplefilter('ignore', RuntimeWarning)\n",
    "ax.scatter(xx, yy, s= Sigma*C, alpha=0.5)\n",
    "ax.scatter(xx, yy, s=-Sigma*C, alpha=0.5)\n",
    "plt.xticks(x, label)\n",
    "plt.yticks(x, label)\n",
    "plt.show()"
   ]
  },
  {
   "cell_type": "markdown",
   "metadata": {},
   "source": [
    "前記の行列表示と上下逆になっていますが、円の面積が$\\sigma$の大きさを表しています。また緑の部分は負の数値を表しています。コード中では、無理やりエラー抑制して、色を付けています（めんどくさかったので・・・）。"
   ]
  },
  {
   "cell_type": "markdown",
   "metadata": {},
   "source": [
    "## まとめ\n",
    "以上より、正規化した場合の共分散の最大値が0.15であって、1に比べてだいぶ小さいため、かなりの確かさで識別できそうだということがわかりました。次は実際に録音したゲーム音声で、識別可能性を確認します。"
   ]
  }
 ],
 "metadata": {
  "kernelspec": {
   "display_name": "Python 3",
   "language": "python",
   "name": "python3"
  },
  "language_info": {
   "codemirror_mode": {
    "name": "ipython",
    "version": 3
   },
   "file_extension": ".py",
   "mimetype": "text/x-python",
   "name": "python",
   "nbconvert_exporter": "python",
   "pygments_lexer": "ipython3",
   "version": "3.6.5"
  }
 },
 "nbformat": 4,
 "nbformat_minor": 2
}
