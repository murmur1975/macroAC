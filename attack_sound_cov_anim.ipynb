{
 "cells": [
  {
   "cell_type": "markdown",
   "metadata": {},
   "source": [
    "# 通常攻撃SEの共分散のアニメーションイメージ"
   ]
  },
  {
   "cell_type": "markdown",
   "metadata": {},
   "source": [
    "音声で通常攻撃のどの種類の攻撃がヒットしたかを、音声の共分散を用いて判定することを考えましたが、どうにもイメージがわかないので、アニメーションで可視化させます。"
   ]
  },
  {
   "cell_type": "markdown",
   "metadata": {},
   "source": [
    "### 準備\n",
    "通常攻撃の音声を録音し、ファイルとして用意して`./SFV_SE/`フォルダに格納しておきます。"
   ]
  },
  {
   "cell_type": "code",
   "execution_count": 1,
   "metadata": {
    "scrolled": true
   },
   "outputs": [],
   "source": [
    "import matplotlib.pyplot as plt\n",
    "import numpy as np\n",
    "import seaborn as sb\n",
    "import soundfile as sf\n",
    "import matplotlib.animation as animation\n",
    "from scipy import signal\n",
    "\n",
    "import matplotlib\n",
    "import warnings\n",
    "\n",
    "# データ読み込み\n",
    "folder = './SFV_SE/'\n",
    "data_w, fs = sf.read(folder + 'whole.wav')\n",
    "\n",
    "# 標準偏差が1となるよう正規化（共分散を比較するため）\n",
    "data_w = data_w / np.std(data_w)"
   ]
  },
  {
   "cell_type": "markdown",
   "metadata": {},
   "source": [
    "'whole.wav'はfs=44.1kHzです。前回の6種の攻撃ごとのファイルではなく、6種の攻撃を各6回ずつヒットさせたときの音声が入っている生のゲーム音声ファイルです。下で、ダウンサンプリングした後にグラフ表示しています。"
   ]
  },
  {
   "cell_type": "markdown",
   "metadata": {},
   "source": [
    "（ここで音声を聞けるように要素を挿入）"
   ]
  },
  {
   "cell_type": "markdown",
   "metadata": {},
   "source": [
    "### ダウンサンプリング\n",
    "データ数が多いと、リアルタイム処理ができない可能性があるのと、いちいち解析に時間がかかるので、1/100にダウンサンプリングして、fsを441Hzにします。\n",
    "\n",
    "ダウンサンプリングって何？って人は、こちらを。\n",
    "（記事リンク）\n",
    "\n",
    "もちろん、あまりダウンサンプリングレート(DSR)を高くしてデータを間引きすぎてしまうと、情報量が足りなくなって、検出精度に影響を及ぼします。"
   ]
  },
  {
   "cell_type": "code",
   "execution_count": 2,
   "metadata": {},
   "outputs": [],
   "source": [
    "# ダウンサンプリング\n",
    "# decimate関数ヘルプより：DSRが13を超える場合は複数回に分ける\n",
    "# 理由はおそらく、ダウンサンプリング用LPFを設計できないため\n",
    "dsr1 = 10  # 1回あたりのDSR\n",
    "dsr = dsr1*dsr1  # 2回でDSRは100になる\n",
    "\n",
    "# ダウンサンプリング用LPFはFIR型とする\n",
    "# FIR型フィルタは位相特性が直線なので、波形が保存される\n",
    "data_w = signal.decimate(data_w, dsr, ftype='fir')  # 全く同じことを2回やる\n",
    "data_w = signal.decimate(data_w, dsr, ftype='fir')\n",
    "fs = int(fs/dsr)  # サンプリング周波数を更新"
   ]
  },
  {
   "cell_type": "markdown",
   "metadata": {},
   "source": [
    "ここで、2回に分けてダウンサンプリングしている理由は、`scipy.decimate()`の仕様で、DSRが13を超える場合は、複数回に分けることが推奨されているためです。DSR=10で2回ダウンサンプリングして、DSR=100を実現しています。高いDSRで1回で済まそうとすると、エラーを吐きます（やってみてください）。\n",
    "\n",
    "ただ実は、これは単に`scipy.decimate()`の実装の問題というより、もっと原理的な、ディジタルフィルタの設計に関する問題です。有名な科学計算ソフトであるMATLABにも同様の関数がありますが、やはりDSRが高いときは、エラーを吐きます。\n",
    "\n",
    "簡単に理由を説明します。ナイキスト周波数をfs/2とすると、ここで使われる折返し誤差防止用のローパスフィルタ(LPF)の通過帯域幅はfs/2/DSRとなり、fs/2に対して非常に狭いです。この条件でLPFを設計しようとすると、ほとんどLPFというより、実質上は単なる共振フィルタとなってしまい、フィルタの安定性にも精度にも問題が出てきてしまうので、設計がが非常に困難になる、といった感じです。"
   ]
  },
  {
   "cell_type": "markdown",
   "metadata": {},
   "source": [
    "### 弱P(LP)の音声抜き出し"
   ]
  },
  {
   "cell_type": "markdown",
   "metadata": {},
   "source": [
    "今回は、図の見た目を重視して、`whole.waav`からLP1発相当のSEを切り出しておきます。"
   ]
  },
  {
   "cell_type": "code",
   "execution_count": 3,
   "metadata": {},
   "outputs": [],
   "source": [
    "LP = data_w[2894:3038]  # この部分がLPのSE"
   ]
  },
  {
   "cell_type": "markdown",
   "metadata": {},
   "source": [
    "### プロット\n",
    "何はともあれ、まずは結果を見てみましょう。散々試行錯誤したのですが、別のコンソールでは動画も作れてアニメーションもするのに、Jupyter Notebookではアニメできませんでした。しかも`plot`命令のところでエラーが出るし・・・。"
   ]
  },
  {
   "cell_type": "markdown",
   "metadata": {},
   "source": [
    "（コードは隠す）"
   ]
  },
  {
   "cell_type": "code",
   "execution_count": 5,
   "metadata": {},
   "outputs": [
    {
     "name": "stderr",
     "output_type": "stream",
     "text": [
      "Traceback (most recent call last):\n",
      "  File \"C:\\Users\\h29-006\\Anaconda3\\lib\\site-packages\\matplotlib\\cbook\\__init__.py\", line 388, in process\n",
      "    proxy(*args, **kwargs)\n",
      "  File \"C:\\Users\\h29-006\\Anaconda3\\lib\\site-packages\\matplotlib\\cbook\\__init__.py\", line 228, in __call__\n",
      "    return mtd(*args, **kwargs)\n",
      "  File \"C:\\Users\\h29-006\\Anaconda3\\lib\\site-packages\\matplotlib\\animation.py\", line 1026, in _start\n",
      "    self._init_draw()\n",
      "  File \"C:\\Users\\h29-006\\Anaconda3\\lib\\site-packages\\matplotlib\\animation.py\", line 1750, in _init_draw\n",
      "    self._draw_frame(next(self.new_frame_seq()))\n",
      "  File \"C:\\Users\\h29-006\\Anaconda3\\lib\\site-packages\\matplotlib\\animation.py\", line 1772, in _draw_frame\n",
      "    self._drawn_artists = self._func(framedata, *self._args)\n",
      "  File \"<ipython-input-5-270a3aefa675>\", line 29, in plot\n",
      "    plt.plot(x, data_w[k:k+len(x)], alpha=0.8)  # 全体音声プロット\n",
      "  File \"C:\\Users\\h29-006\\Anaconda3\\lib\\site-packages\\matplotlib\\pyplot.py\", line 3358, in plot\n",
      "    ret = ax.plot(*args, **kwargs)\n",
      "  File \"C:\\Users\\h29-006\\Anaconda3\\lib\\site-packages\\matplotlib\\__init__.py\", line 1855, in inner\n",
      "    return func(ax, *args, **kwargs)\n",
      "  File \"C:\\Users\\h29-006\\Anaconda3\\lib\\site-packages\\matplotlib\\axes\\_axes.py\", line 1527, in plot\n",
      "    for line in self._get_lines(*args, **kwargs):\n",
      "  File \"C:\\Users\\h29-006\\Anaconda3\\lib\\site-packages\\matplotlib\\axes\\_base.py\", line 406, in _grab_next_args\n",
      "    for seg in self._plot_args(this, kwargs):\n",
      "  File \"C:\\Users\\h29-006\\Anaconda3\\lib\\site-packages\\matplotlib\\axes\\_base.py\", line 383, in _plot_args\n",
      "    x, y = self._xy_from_xy(x, y)\n",
      "  File \"C:\\Users\\h29-006\\Anaconda3\\lib\\site-packages\\matplotlib\\axes\\_base.py\", line 242, in _xy_from_xy\n",
      "    \"have shapes {} and {}\".format(x.shape, y.shape))\n",
      "ValueError: x and y must have same first dimension, but have shapes (441,) and (0,)\n"
     ]
    },
    {
     "ename": "ValueError",
     "evalue": "x and y must have same first dimension, but have shapes (441,) and (0,)",
     "output_type": "error",
     "traceback": [
      "\u001b[1;31m---------------------------------------------------------------------------\u001b[0m",
      "\u001b[1;31mValueError\u001b[0m                                Traceback (most recent call last)",
      "\u001b[1;32m<ipython-input-5-270a3aefa675>\u001b[0m in \u001b[0;36m<module>\u001b[1;34m()\u001b[0m\n\u001b[0;32m     93\u001b[0m \u001b[1;31m#plt.show()\u001b[0m\u001b[1;33m\u001b[0m\u001b[1;33m\u001b[0m\u001b[0m\n\u001b[0;32m     94\u001b[0m \u001b[1;33m\u001b[0m\u001b[0m\n\u001b[1;32m---> 95\u001b[1;33m \u001b[0mHTML\u001b[0m\u001b[1;33m(\u001b[0m\u001b[0mani\u001b[0m\u001b[1;33m.\u001b[0m\u001b[0mto_html5_video\u001b[0m\u001b[1;33m(\u001b[0m\u001b[1;33m)\u001b[0m\u001b[1;33m)\u001b[0m\u001b[1;33m\u001b[0m\u001b[0m\n\u001b[0m",
      "\u001b[1;32m~\\Anaconda3\\lib\\site-packages\\matplotlib\\animation.py\u001b[0m in \u001b[0;36mto_html5_video\u001b[1;34m(self, embed_limit)\u001b[0m\n\u001b[0;32m   1351\u001b[0m                                 \u001b[0mbitrate\u001b[0m\u001b[1;33m=\u001b[0m\u001b[0mrcParams\u001b[0m\u001b[1;33m[\u001b[0m\u001b[1;34m'animation.bitrate'\u001b[0m\u001b[1;33m]\u001b[0m\u001b[1;33m,\u001b[0m\u001b[1;33m\u001b[0m\u001b[0m\n\u001b[0;32m   1352\u001b[0m                                 fps=1000. / self._interval)\n\u001b[1;32m-> 1353\u001b[1;33m                 \u001b[0mself\u001b[0m\u001b[1;33m.\u001b[0m\u001b[0msave\u001b[0m\u001b[1;33m(\u001b[0m\u001b[0mf\u001b[0m\u001b[1;33m.\u001b[0m\u001b[0mname\u001b[0m\u001b[1;33m,\u001b[0m \u001b[0mwriter\u001b[0m\u001b[1;33m=\u001b[0m\u001b[0mwriter\u001b[0m\u001b[1;33m)\u001b[0m\u001b[1;33m\u001b[0m\u001b[0m\n\u001b[0m\u001b[0;32m   1354\u001b[0m \u001b[1;33m\u001b[0m\u001b[0m\n\u001b[0;32m   1355\u001b[0m             \u001b[1;31m# Now open and base64 encode\u001b[0m\u001b[1;33m\u001b[0m\u001b[1;33m\u001b[0m\u001b[0m\n",
      "\u001b[1;32m~\\Anaconda3\\lib\\site-packages\\matplotlib\\animation.py\u001b[0m in \u001b[0;36msave\u001b[1;34m(self, filename, writer, fps, dpi, codec, bitrate, extra_args, metadata, extra_anim, savefig_kwargs)\u001b[0m\n\u001b[0;32m   1193\u001b[0m                 \u001b[1;32mfor\u001b[0m \u001b[0manim\u001b[0m \u001b[1;32min\u001b[0m \u001b[0mall_anim\u001b[0m\u001b[1;33m:\u001b[0m\u001b[1;33m\u001b[0m\u001b[0m\n\u001b[0;32m   1194\u001b[0m                     \u001b[1;31m# Clear the initial frame\u001b[0m\u001b[1;33m\u001b[0m\u001b[1;33m\u001b[0m\u001b[0m\n\u001b[1;32m-> 1195\u001b[1;33m                     \u001b[0manim\u001b[0m\u001b[1;33m.\u001b[0m\u001b[0m_init_draw\u001b[0m\u001b[1;33m(\u001b[0m\u001b[1;33m)\u001b[0m\u001b[1;33m\u001b[0m\u001b[0m\n\u001b[0m\u001b[0;32m   1196\u001b[0m                 \u001b[1;32mfor\u001b[0m \u001b[0mdata\u001b[0m \u001b[1;32min\u001b[0m \u001b[0mzip\u001b[0m\u001b[1;33m(\u001b[0m\u001b[1;33m*\u001b[0m\u001b[1;33m[\u001b[0m\u001b[0ma\u001b[0m\u001b[1;33m.\u001b[0m\u001b[0mnew_saved_frame_seq\u001b[0m\u001b[1;33m(\u001b[0m\u001b[1;33m)\u001b[0m \u001b[1;32mfor\u001b[0m \u001b[0ma\u001b[0m \u001b[1;32min\u001b[0m \u001b[0mall_anim\u001b[0m\u001b[1;33m]\u001b[0m\u001b[1;33m)\u001b[0m\u001b[1;33m:\u001b[0m\u001b[1;33m\u001b[0m\u001b[0m\n\u001b[0;32m   1197\u001b[0m                     \u001b[1;32mfor\u001b[0m \u001b[0manim\u001b[0m\u001b[1;33m,\u001b[0m \u001b[0md\u001b[0m \u001b[1;32min\u001b[0m \u001b[0mzip\u001b[0m\u001b[1;33m(\u001b[0m\u001b[0mall_anim\u001b[0m\u001b[1;33m,\u001b[0m \u001b[0mdata\u001b[0m\u001b[1;33m)\u001b[0m\u001b[1;33m:\u001b[0m\u001b[1;33m\u001b[0m\u001b[0m\n",
      "\u001b[1;32m~\\Anaconda3\\lib\\site-packages\\matplotlib\\animation.py\u001b[0m in \u001b[0;36m_init_draw\u001b[1;34m(self)\u001b[0m\n\u001b[0;32m   1748\u001b[0m         \u001b[1;31m# artists.\u001b[0m\u001b[1;33m\u001b[0m\u001b[1;33m\u001b[0m\u001b[0m\n\u001b[0;32m   1749\u001b[0m         \u001b[1;32mif\u001b[0m \u001b[0mself\u001b[0m\u001b[1;33m.\u001b[0m\u001b[0m_init_func\u001b[0m \u001b[1;32mis\u001b[0m \u001b[1;32mNone\u001b[0m\u001b[1;33m:\u001b[0m\u001b[1;33m\u001b[0m\u001b[0m\n\u001b[1;32m-> 1750\u001b[1;33m             \u001b[0mself\u001b[0m\u001b[1;33m.\u001b[0m\u001b[0m_draw_frame\u001b[0m\u001b[1;33m(\u001b[0m\u001b[0mnext\u001b[0m\u001b[1;33m(\u001b[0m\u001b[0mself\u001b[0m\u001b[1;33m.\u001b[0m\u001b[0mnew_frame_seq\u001b[0m\u001b[1;33m(\u001b[0m\u001b[1;33m)\u001b[0m\u001b[1;33m)\u001b[0m\u001b[1;33m)\u001b[0m\u001b[1;33m\u001b[0m\u001b[0m\n\u001b[0m\u001b[0;32m   1751\u001b[0m \u001b[1;33m\u001b[0m\u001b[0m\n\u001b[0;32m   1752\u001b[0m         \u001b[1;32melse\u001b[0m\u001b[1;33m:\u001b[0m\u001b[1;33m\u001b[0m\u001b[0m\n",
      "\u001b[1;32m~\\Anaconda3\\lib\\site-packages\\matplotlib\\animation.py\u001b[0m in \u001b[0;36m_draw_frame\u001b[1;34m(self, framedata)\u001b[0m\n\u001b[0;32m   1770\u001b[0m         \u001b[1;31m# Call the func with framedata and args. If blitting is desired,\u001b[0m\u001b[1;33m\u001b[0m\u001b[1;33m\u001b[0m\u001b[0m\n\u001b[0;32m   1771\u001b[0m         \u001b[1;31m# func needs to return a sequence of any artists that were modified.\u001b[0m\u001b[1;33m\u001b[0m\u001b[1;33m\u001b[0m\u001b[0m\n\u001b[1;32m-> 1772\u001b[1;33m         \u001b[0mself\u001b[0m\u001b[1;33m.\u001b[0m\u001b[0m_drawn_artists\u001b[0m \u001b[1;33m=\u001b[0m \u001b[0mself\u001b[0m\u001b[1;33m.\u001b[0m\u001b[0m_func\u001b[0m\u001b[1;33m(\u001b[0m\u001b[0mframedata\u001b[0m\u001b[1;33m,\u001b[0m \u001b[1;33m*\u001b[0m\u001b[0mself\u001b[0m\u001b[1;33m.\u001b[0m\u001b[0m_args\u001b[0m\u001b[1;33m)\u001b[0m\u001b[1;33m\u001b[0m\u001b[0m\n\u001b[0m\u001b[0;32m   1773\u001b[0m         \u001b[1;32mif\u001b[0m \u001b[0mself\u001b[0m\u001b[1;33m.\u001b[0m\u001b[0m_blit\u001b[0m\u001b[1;33m:\u001b[0m\u001b[1;33m\u001b[0m\u001b[0m\n\u001b[0;32m   1774\u001b[0m             \u001b[1;32mif\u001b[0m \u001b[0mself\u001b[0m\u001b[1;33m.\u001b[0m\u001b[0m_drawn_artists\u001b[0m \u001b[1;32mis\u001b[0m \u001b[1;32mNone\u001b[0m\u001b[1;33m:\u001b[0m\u001b[1;33m\u001b[0m\u001b[0m\n",
      "\u001b[1;32m<ipython-input-5-270a3aefa675>\u001b[0m in \u001b[0;36mplot\u001b[1;34m(frame)\u001b[0m\n\u001b[0;32m     27\u001b[0m         \u001b[0mplt\u001b[0m\u001b[1;33m.\u001b[0m\u001b[0mcla\u001b[0m\u001b[1;33m(\u001b[0m\u001b[1;33m)\u001b[0m  \u001b[1;31m# 図をクリア\u001b[0m\u001b[1;33m\u001b[0m\u001b[0m\n\u001b[0;32m     28\u001b[0m         \u001b[0mplt\u001b[0m\u001b[1;33m.\u001b[0m\u001b[0mtitle\u001b[0m\u001b[1;33m(\u001b[0m\u001b[1;34m'Sound Waveforms'\u001b[0m\u001b[1;33m)\u001b[0m\u001b[1;33m\u001b[0m\u001b[0m\n\u001b[1;32m---> 29\u001b[1;33m         \u001b[0mplt\u001b[0m\u001b[1;33m.\u001b[0m\u001b[0mplot\u001b[0m\u001b[1;33m(\u001b[0m\u001b[0mx\u001b[0m\u001b[1;33m,\u001b[0m \u001b[0mdata_w\u001b[0m\u001b[1;33m[\u001b[0m\u001b[0mk\u001b[0m\u001b[1;33m:\u001b[0m\u001b[0mk\u001b[0m\u001b[1;33m+\u001b[0m\u001b[0mlen\u001b[0m\u001b[1;33m(\u001b[0m\u001b[0mx\u001b[0m\u001b[1;33m)\u001b[0m\u001b[1;33m]\u001b[0m\u001b[1;33m,\u001b[0m \u001b[0malpha\u001b[0m\u001b[1;33m=\u001b[0m\u001b[1;36m0.8\u001b[0m\u001b[1;33m)\u001b[0m  \u001b[1;31m# 全体音声プロット\u001b[0m\u001b[1;33m\u001b[0m\u001b[0m\n\u001b[0m\u001b[0;32m     30\u001b[0m         \u001b[0mplt\u001b[0m\u001b[1;33m.\u001b[0m\u001b[0mplot\u001b[0m\u001b[1;33m(\u001b[0m\u001b[0mxx\u001b[0m\u001b[1;33m,\u001b[0m \u001b[0mLP\u001b[0m\u001b[1;33m,\u001b[0m \u001b[0malpha\u001b[0m\u001b[1;33m=\u001b[0m\u001b[1;36m0.7\u001b[0m\u001b[1;33m)\u001b[0m  \u001b[1;31m# LP音声プロット\u001b[0m\u001b[1;33m\u001b[0m\u001b[0m\n\u001b[0;32m     31\u001b[0m         \u001b[0mplt\u001b[0m\u001b[1;33m.\u001b[0m\u001b[0mxlim\u001b[0m\u001b[1;33m(\u001b[0m\u001b[1;33m-\u001b[0m\u001b[1;36m0.5\u001b[0m\u001b[1;33m,\u001b[0m \u001b[1;36m0.5\u001b[0m\u001b[1;33m)\u001b[0m\u001b[1;33m\u001b[0m\u001b[0m\n",
      "\u001b[1;32m~\\Anaconda3\\lib\\site-packages\\matplotlib\\pyplot.py\u001b[0m in \u001b[0;36mplot\u001b[1;34m(*args, **kwargs)\u001b[0m\n\u001b[0;32m   3356\u001b[0m                       mplDeprecation)\n\u001b[0;32m   3357\u001b[0m     \u001b[1;32mtry\u001b[0m\u001b[1;33m:\u001b[0m\u001b[1;33m\u001b[0m\u001b[0m\n\u001b[1;32m-> 3358\u001b[1;33m         \u001b[0mret\u001b[0m \u001b[1;33m=\u001b[0m \u001b[0max\u001b[0m\u001b[1;33m.\u001b[0m\u001b[0mplot\u001b[0m\u001b[1;33m(\u001b[0m\u001b[1;33m*\u001b[0m\u001b[0margs\u001b[0m\u001b[1;33m,\u001b[0m \u001b[1;33m**\u001b[0m\u001b[0mkwargs\u001b[0m\u001b[1;33m)\u001b[0m\u001b[1;33m\u001b[0m\u001b[0m\n\u001b[0m\u001b[0;32m   3359\u001b[0m     \u001b[1;32mfinally\u001b[0m\u001b[1;33m:\u001b[0m\u001b[1;33m\u001b[0m\u001b[0m\n\u001b[0;32m   3360\u001b[0m         \u001b[0max\u001b[0m\u001b[1;33m.\u001b[0m\u001b[0m_hold\u001b[0m \u001b[1;33m=\u001b[0m \u001b[0mwashold\u001b[0m\u001b[1;33m\u001b[0m\u001b[0m\n",
      "\u001b[1;32m~\\Anaconda3\\lib\\site-packages\\matplotlib\\__init__.py\u001b[0m in \u001b[0;36minner\u001b[1;34m(ax, *args, **kwargs)\u001b[0m\n\u001b[0;32m   1853\u001b[0m                         \u001b[1;34m\"the Matplotlib list!)\"\u001b[0m \u001b[1;33m%\u001b[0m \u001b[1;33m(\u001b[0m\u001b[0mlabel_namer\u001b[0m\u001b[1;33m,\u001b[0m \u001b[0mfunc\u001b[0m\u001b[1;33m.\u001b[0m\u001b[0m__name__\u001b[0m\u001b[1;33m)\u001b[0m\u001b[1;33m,\u001b[0m\u001b[1;33m\u001b[0m\u001b[0m\n\u001b[0;32m   1854\u001b[0m                         RuntimeWarning, stacklevel=2)\n\u001b[1;32m-> 1855\u001b[1;33m             \u001b[1;32mreturn\u001b[0m \u001b[0mfunc\u001b[0m\u001b[1;33m(\u001b[0m\u001b[0max\u001b[0m\u001b[1;33m,\u001b[0m \u001b[1;33m*\u001b[0m\u001b[0margs\u001b[0m\u001b[1;33m,\u001b[0m \u001b[1;33m**\u001b[0m\u001b[0mkwargs\u001b[0m\u001b[1;33m)\u001b[0m\u001b[1;33m\u001b[0m\u001b[0m\n\u001b[0m\u001b[0;32m   1856\u001b[0m \u001b[1;33m\u001b[0m\u001b[0m\n\u001b[0;32m   1857\u001b[0m         inner.__doc__ = _add_data_doc(inner.__doc__,\n",
      "\u001b[1;32m~\\Anaconda3\\lib\\site-packages\\matplotlib\\axes\\_axes.py\u001b[0m in \u001b[0;36mplot\u001b[1;34m(self, *args, **kwargs)\u001b[0m\n\u001b[0;32m   1525\u001b[0m         \u001b[0mkwargs\u001b[0m \u001b[1;33m=\u001b[0m \u001b[0mcbook\u001b[0m\u001b[1;33m.\u001b[0m\u001b[0mnormalize_kwargs\u001b[0m\u001b[1;33m(\u001b[0m\u001b[0mkwargs\u001b[0m\u001b[1;33m,\u001b[0m \u001b[0m_alias_map\u001b[0m\u001b[1;33m)\u001b[0m\u001b[1;33m\u001b[0m\u001b[0m\n\u001b[0;32m   1526\u001b[0m \u001b[1;33m\u001b[0m\u001b[0m\n\u001b[1;32m-> 1527\u001b[1;33m         \u001b[1;32mfor\u001b[0m \u001b[0mline\u001b[0m \u001b[1;32min\u001b[0m \u001b[0mself\u001b[0m\u001b[1;33m.\u001b[0m\u001b[0m_get_lines\u001b[0m\u001b[1;33m(\u001b[0m\u001b[1;33m*\u001b[0m\u001b[0margs\u001b[0m\u001b[1;33m,\u001b[0m \u001b[1;33m**\u001b[0m\u001b[0mkwargs\u001b[0m\u001b[1;33m)\u001b[0m\u001b[1;33m:\u001b[0m\u001b[1;33m\u001b[0m\u001b[0m\n\u001b[0m\u001b[0;32m   1528\u001b[0m             \u001b[0mself\u001b[0m\u001b[1;33m.\u001b[0m\u001b[0madd_line\u001b[0m\u001b[1;33m(\u001b[0m\u001b[0mline\u001b[0m\u001b[1;33m)\u001b[0m\u001b[1;33m\u001b[0m\u001b[0m\n\u001b[0;32m   1529\u001b[0m             \u001b[0mlines\u001b[0m\u001b[1;33m.\u001b[0m\u001b[0mappend\u001b[0m\u001b[1;33m(\u001b[0m\u001b[0mline\u001b[0m\u001b[1;33m)\u001b[0m\u001b[1;33m\u001b[0m\u001b[0m\n",
      "\u001b[1;32m~\\Anaconda3\\lib\\site-packages\\matplotlib\\axes\\_base.py\u001b[0m in \u001b[0;36m_grab_next_args\u001b[1;34m(self, *args, **kwargs)\u001b[0m\n\u001b[0;32m    404\u001b[0m                 \u001b[0mthis\u001b[0m \u001b[1;33m+=\u001b[0m \u001b[0margs\u001b[0m\u001b[1;33m[\u001b[0m\u001b[1;36m0\u001b[0m\u001b[1;33m]\u001b[0m\u001b[1;33m,\u001b[0m\u001b[1;33m\u001b[0m\u001b[0m\n\u001b[0;32m    405\u001b[0m                 \u001b[0margs\u001b[0m \u001b[1;33m=\u001b[0m \u001b[0margs\u001b[0m\u001b[1;33m[\u001b[0m\u001b[1;36m1\u001b[0m\u001b[1;33m:\u001b[0m\u001b[1;33m]\u001b[0m\u001b[1;33m\u001b[0m\u001b[0m\n\u001b[1;32m--> 406\u001b[1;33m             \u001b[1;32mfor\u001b[0m \u001b[0mseg\u001b[0m \u001b[1;32min\u001b[0m \u001b[0mself\u001b[0m\u001b[1;33m.\u001b[0m\u001b[0m_plot_args\u001b[0m\u001b[1;33m(\u001b[0m\u001b[0mthis\u001b[0m\u001b[1;33m,\u001b[0m \u001b[0mkwargs\u001b[0m\u001b[1;33m)\u001b[0m\u001b[1;33m:\u001b[0m\u001b[1;33m\u001b[0m\u001b[0m\n\u001b[0m\u001b[0;32m    407\u001b[0m                 \u001b[1;32myield\u001b[0m \u001b[0mseg\u001b[0m\u001b[1;33m\u001b[0m\u001b[0m\n\u001b[0;32m    408\u001b[0m \u001b[1;33m\u001b[0m\u001b[0m\n",
      "\u001b[1;32m~\\Anaconda3\\lib\\site-packages\\matplotlib\\axes\\_base.py\u001b[0m in \u001b[0;36m_plot_args\u001b[1;34m(self, tup, kwargs)\u001b[0m\n\u001b[0;32m    381\u001b[0m             \u001b[0mx\u001b[0m\u001b[1;33m,\u001b[0m \u001b[0my\u001b[0m \u001b[1;33m=\u001b[0m \u001b[0mindex_of\u001b[0m\u001b[1;33m(\u001b[0m\u001b[0mtup\u001b[0m\u001b[1;33m[\u001b[0m\u001b[1;33m-\u001b[0m\u001b[1;36m1\u001b[0m\u001b[1;33m]\u001b[0m\u001b[1;33m)\u001b[0m\u001b[1;33m\u001b[0m\u001b[0m\n\u001b[0;32m    382\u001b[0m \u001b[1;33m\u001b[0m\u001b[0m\n\u001b[1;32m--> 383\u001b[1;33m         \u001b[0mx\u001b[0m\u001b[1;33m,\u001b[0m \u001b[0my\u001b[0m \u001b[1;33m=\u001b[0m \u001b[0mself\u001b[0m\u001b[1;33m.\u001b[0m\u001b[0m_xy_from_xy\u001b[0m\u001b[1;33m(\u001b[0m\u001b[0mx\u001b[0m\u001b[1;33m,\u001b[0m \u001b[0my\u001b[0m\u001b[1;33m)\u001b[0m\u001b[1;33m\u001b[0m\u001b[0m\n\u001b[0m\u001b[0;32m    384\u001b[0m \u001b[1;33m\u001b[0m\u001b[0m\n\u001b[0;32m    385\u001b[0m         \u001b[1;32mif\u001b[0m \u001b[0mself\u001b[0m\u001b[1;33m.\u001b[0m\u001b[0mcommand\u001b[0m \u001b[1;33m==\u001b[0m \u001b[1;34m'plot'\u001b[0m\u001b[1;33m:\u001b[0m\u001b[1;33m\u001b[0m\u001b[0m\n",
      "\u001b[1;32m~\\Anaconda3\\lib\\site-packages\\matplotlib\\axes\\_base.py\u001b[0m in \u001b[0;36m_xy_from_xy\u001b[1;34m(self, x, y)\u001b[0m\n\u001b[0;32m    240\u001b[0m         \u001b[1;32mif\u001b[0m \u001b[0mx\u001b[0m\u001b[1;33m.\u001b[0m\u001b[0mshape\u001b[0m\u001b[1;33m[\u001b[0m\u001b[1;36m0\u001b[0m\u001b[1;33m]\u001b[0m \u001b[1;33m!=\u001b[0m \u001b[0my\u001b[0m\u001b[1;33m.\u001b[0m\u001b[0mshape\u001b[0m\u001b[1;33m[\u001b[0m\u001b[1;36m0\u001b[0m\u001b[1;33m]\u001b[0m\u001b[1;33m:\u001b[0m\u001b[1;33m\u001b[0m\u001b[0m\n\u001b[0;32m    241\u001b[0m             raise ValueError(\"x and y must have same first dimension, but \"\n\u001b[1;32m--> 242\u001b[1;33m                              \"have shapes {} and {}\".format(x.shape, y.shape))\n\u001b[0m\u001b[0;32m    243\u001b[0m         \u001b[1;32mif\u001b[0m \u001b[0mx\u001b[0m\u001b[1;33m.\u001b[0m\u001b[0mndim\u001b[0m \u001b[1;33m>\u001b[0m \u001b[1;36m2\u001b[0m \u001b[1;32mor\u001b[0m \u001b[0my\u001b[0m\u001b[1;33m.\u001b[0m\u001b[0mndim\u001b[0m \u001b[1;33m>\u001b[0m \u001b[1;36m2\u001b[0m\u001b[1;33m:\u001b[0m\u001b[1;33m\u001b[0m\u001b[0m\n\u001b[0;32m    244\u001b[0m             raise ValueError(\"x and y can be no greater than 2-D, but have \"\n",
      "\u001b[1;31mValueError\u001b[0m: x and y must have same first dimension, but have shapes (441,) and (0,)"
     ]
    },
    {
     "data": {
      "image/png": "[encoded data removed]",
      "text/plain": [
       "<Figure size 720x432 with 1 Axes>"
      ]
     },
     "metadata": {},
     "output_type": "display_data"
    }
   ],
   "source": [
    "#%% グラフプロット\n",
    "from IPython.display import HTML\n",
    "sb.set()\n",
    "x = np.linspace(-0.5, 0.5, int(fs))  # amp用\n",
    "xx = x[221-len(LP):221]\n",
    "k_stop = 2894-(221-len(LP))+1  # data_wの停止時刻\n",
    "\n",
    "fig, ax = plt.subplots(figsize=(10,6))\n",
    "i = 0\n",
    "k = k_stop-400\n",
    "cv = np.empty(0)\n",
    "\n",
    "def plot(frame):\n",
    "    # future warining抑制\n",
    "    warnings.filterwarnings(\"ignore\",category=matplotlib.cbook.mplDeprecation)\n",
    "\n",
    "    global k\n",
    "    global i\n",
    "    global cv\n",
    "\n",
    "    i = i + 1\n",
    "    k = k + 1\n",
    "\n",
    "    # [1] waveforms\n",
    "    ax = plt.subplot(2,1,1)\n",
    "    if k < k_stop:\n",
    "        plt.cla()  # 図をクリア\n",
    "        plt.title('Sound Waveforms')\n",
    "        plt.plot(x, data_w[k:k+len(x)], alpha=0.8)  # 全体音声プロット\n",
    "        plt.plot(xx, LP, alpha=0.7)  # LP音声プロット\n",
    "        plt.xlim(-0.5, 0.5)\n",
    "        plt.ylim(-3, 3)\n",
    "        plt.tick_params(labelbottom=False)\n",
    "        plt.legend(['game sound','LP sound'], loc=4)\n",
    "        plt.fill([xx[0],xx[0],0,0],[-5,3,3,-5], alpha=0.1, color='coral')\n",
    "        plt.vlines(0, -3, 3, colors='k', linewidth=1, linestyles='dotted', alpha=0.5)\n",
    "        ax.annotate('waveform of\\nLP sound', xy=(-0.185,2), color='coral')\n",
    "        plt.ylabel('amplitude')\n",
    "    if k == k_stop:\n",
    "        ax.annotate('2 waveforms\\nare matched! [A]', xy=(-0.17,-2), color='r', fontsize=15)\n",
    "        plt.vlines(-144/441, -3, 3, colors='k', linewidth=1, linestyles='dotted', alpha=0.5)\n",
    "\n",
    "    # [2] covariance\n",
    "    ax = plt.subplot(2,1,2)\n",
    "    if k < k_stop:\n",
    "        LP_w = data_w[k+77:k+77+len(LP)]  # LPとのcov計算のためにwholeから切り出す\n",
    "        temp = np.cov(LP/np.std(LP), LP_w/np.std(LP_w))  # cov計算\n",
    "        cv = np.append(cv, temp[0,1])  # グラフのためにcov蓄積\n",
    "        x_cv = np.linspace(-i*(1/fs), 0, i)  # covグラフ軸\n",
    "\n",
    "        plt.cla()  # 図をクリア\n",
    "        plt.title('Covariance and Threshold')\n",
    "        plt.plot(x_cv, cv, color='yellowgreen')  # 過去のcov\n",
    "        plt.plot(0, cv[-1], 'o', color='yellowgreen') # 現在のcov\n",
    "        plt.hlines(0.6, -0.5, 0.5, colors='forestgreen', linestyles='dashed', alpha=0.5)\n",
    "        plt.vlines(0, -1, 1.2, colors='k', linewidth=1, linestyles='dotted', alpha=0.5)\n",
    "        plt.xlim(-0.5, 0.5)\n",
    "        plt.ylim(-1, 1.2)\n",
    "        plt.xlabel('time[s]')\n",
    "        plt.ylabel('covariance')\n",
    "        plt.legend(['past covariance','current covariance'], loc=4)\n",
    "\n",
    "        pos_ty = -0.75\n",
    "        ax.annotate('NOW', xy=(0,pos_ty-0.15), ha='center', color='gray')\n",
    "        ax.annotate('', xy=(0,pos_ty), xycoords='data',\n",
    "                    xytext=(-0.1,pos_ty), textcoords='data', \n",
    "                    arrowprops=dict(arrowstyle='<-', color='gray'))\n",
    "        ax.annotate('past', xy=(-0.1,pos_ty-0.15), ha='center', color='gray')\n",
    "        ax.annotate('', xy=(0,pos_ty), xycoords='data',\n",
    "                    xytext=(0.1,pos_ty), textcoords='data', \n",
    "                    arrowprops=dict(arrowstyle='<-', color='gray'))\n",
    "        ax.annotate('future', xy=(0.1,pos_ty-0.15), ha='center', color='gray')\n",
    "        ax.annotate('threshold', xy=(0.48,0.62), ha='right', color='forestgreen')\n",
    "    if i > 133:\n",
    "        ax.annotate('LP detected!', xy=((133-i)/fs,cv[133]), xycoords='data',\n",
    "                    xytext=((133-i)/fs+0.15,0.8), textcoords='data', color='coral', fontsize=15, ha='center',\n",
    "                    arrowprops=dict(arrowstyle='->', color='coral'))\n",
    "    if k == k_stop:\n",
    "        ax.annotate('covariance is max(1.0)!\\n(this means [A])', xy=(0.17, 0.02), color='r', fontsize=15, ha='center')\n",
    "        ax.annotate('LP detected!', xy=(0,1), xycoords='data',\n",
    "                    xytext=(0.15,0.8), textcoords='data', color='coral', fontsize=15, ha='center',\n",
    "                    arrowprops=dict(arrowstyle='->', color='coral'))\n",
    "        ax.annotate('detection lag', xy=(-72/441,0.82), ha='center', color='coral')\n",
    "        ax.annotate('', xy=(-144/441,0.8), xycoords='data',\n",
    "                    xytext=(0,0.8), textcoords='data', color='coral',\n",
    "                    arrowprops=dict(arrowstyle='<->', color='coral', linestyle='dotted'))\n",
    "        plt.vlines(-144/441, 0.5, 1.2, colors='k', linewidth=1, linestyles='dotted', alpha=0.5)\n",
    "    plt.tight_layout()\n",
    "    return fig,\n",
    "    \n",
    "ani = animation.FuncAnimation(fig, plot, interval=50, frames=500, blit=True)\n",
    "#ani.save(\"anim.mp4\", writer = 'ffmpeg', bitrate=1500)\n",
    "#plt.show()\n",
    "\n",
    "HTML(ani.to_html5_video())\n",
    "\n"
   ]
  },
  {
   "cell_type": "markdown",
   "metadata": {},
   "source": [
    "時間経過にしたがって青色の`game sound`を動かし、それがオレンジ色の`LP sound`と重なった部分の共分散を計算したものが黄緑色の`covariance`です。現時刻`NOW`での共分散を、黄緑色の上下する丸`corrent covariance`で表しています。共分散が緑色の`threshold`を超えたときには、オレンジ色の領域の`game sound`と`LP sound`の波形がかなり似ているということになるため、このとき「LPがヒットした」と判断しよう、というわけです。\n",
    "\n",
    "以前に、共分散によるヒット確認について説明しました。\n",
    "\n",
    "（過去ブログカード表示）\n",
    "\n",
    "これは、上のアニメーションにおける`LP hit detected`のときの値だけを検証したものです。それ以外のときに、時間経過によって、共分散がどのような値になっているのか、見えてきたのではないでしょうか。"
   ]
  },
  {
   "cell_type": "markdown",
   "metadata": {},
   "source": [
    "\n",
    "## 課題\n",
    "苦労してアニメーションを作成したのは、単に楽しいからだけではありません（まぁ、楽しいんですけど）。**ある現象を、適切な可視化を通して、手袋越しではなく素手で掴むため**です。こういった詳細な観察より、課題が見えてきます。\n",
    "\n",
    "### 検出ラグ（参照SEの長さ）\n",
    "アニメーションより、ヒットSEが現時刻を通過してから、言い換えれば、ヒットSEが聞こえてから少し経ってから、ヒット検出のための共分散の値が計算されることがわかります。すなわち、検出にはラグがある(アニメ中の`detection lag`)ということです。\n",
    "\n",
    "このラグは、参照ヒットSEの長さに等しいですから、ラグを短くするには、この長さを短くすればいいことになります。ただ、この長さを短くしすぎると、単なるBGMや他のSEによって計算された共分散もしきい値を超えてしまったりするため、判定精度が落ちます。\n",
    "\n",
    "この値を適切な長さに決定します。もちろんヒットSEごとに適切な長さは変わります。\n",
    "\n",
    "### サンプリング周波数(fs)\n",
    "上の方で言及しましたが、fsについては、DSR=100として決め打ちで実行しました。ただ、fsによっては、リアルタム処理が追いつかなくなる恐れがありますので、検出精度に与える影響が少ない範囲で、なるべくfsを下げたいところです。\n",
    "\n",
    "まぁ、いずれにせよfs=441Hzというのはだいぶ低いので、これ以上は下げられないような気はします。\n",
    "\n",
    "### しきい値\n",
    "しきい値は単なる値ですが、されど共分散がこの値を超えたか否かでヒット検出をするので、非常に重要です。上の検出ラグとfsの問題とも関係していますので、適宜実験して様子を見ながら調整していきます。\n",
    "\n",
    "一般的にしきい値というのは、応用対象の外的要因に左右されるため、理論的には決定しにくいです。ただそれ故、強力な武器にもなりえます。\n",
    "\n",
    "（コラム）理論的に決定しにくい値やデータは、実験でしかわかりません。実験には人件費と時間などの膨大なコストがかかることが多く、それだけ価値があるため、秘匿されることが多いです。逆に、学術的な価値があると考えられている理論については、公知の事実となっていれば誰でも同じ結果が得られるため、特に企業では、ほとんど価値がないと考えられることもあります。世の中にとってはどちらも必要ですが、私としては、カネと時間をかければわかるデータより、閃きがない限り思いつかない理論の方に価値があってほしいと願います。\n",
    "\n",
    "### 他のSEについて\n",
    "今回はLPについてのみ行いましたが、他の5種についても同様のに検証する必要があります。ただ、大きくは変わらないと思います。"
   ]
  },
  {
   "cell_type": "markdown",
   "metadata": {},
   "source": [
    "\n",
    "## まとめ\n",
    "今回は、以前は説明した共分散が、時間経過につれてどのような振る舞いをするかを、アニメーションで示しました。次回は、上で挙げた課題について、検証していきます。"
   ]
  }
 ],
 "metadata": {
  "hide_input": false,
  "kernelspec": {
   "display_name": "Python 3",
   "language": "python",
   "name": "python3"
  },
  "language_info": {
   "codemirror_mode": {
    "name": "ipython",
    "version": 3
   },
   "file_extension": ".py",
   "mimetype": "text/x-python",
   "name": "python",
   "nbconvert_exporter": "python",
   "pygments_lexer": "ipython3",
   "version": "3.6.6"
  },
  "toc": {
   "base_numbering": 1,
   "nav_menu": {},
   "number_sections": false,
   "sideBar": true,
   "skip_h1_title": true,
   "title_cell": "Table of Contents",
   "title_sidebar": "Contents",
   "toc_cell": false,
   "toc_position": {},
   "toc_section_display": true,
   "toc_window_display": false
  },
  "varInspector": {
   "cols": {
    "lenName": 16,
    "lenType": 16,
    "lenVar": 40
   },
   "kernels_config": {
    "python": {
     "delete_cmd_postfix": "",
     "delete_cmd_prefix": "del ",
     "library": "var_list.py",
     "varRefreshCmd": "print(var_dic_list())"
    },
    "r": {
     "delete_cmd_postfix": ") ",
     "delete_cmd_prefix": "rm(",
     "library": "var_list.r",
     "varRefreshCmd": "cat(var_dic_list()) "
    }
   },
   "types_to_exclude": [
    "module",
    "function",
    "builtin_function_or_method",
    "instance",
    "_Feature"
   ],
   "window_display": false
  }
 },
 "nbformat": 4,
 "nbformat_minor": 2
}
