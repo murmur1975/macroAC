{
 "cells": [
  {
   "cell_type": "markdown",
   "metadata": {},
   "source": [
    "# SFVの6種の通常攻撃のSEの主成分分析"
   ]
  },
  {
   "cell_type": "markdown",
   "metadata": {},
   "source": [
    "音声そのものの共分散を用いて、通常攻撃のどの種類の攻撃がヒットしたかを認識しようとした場合、ほんの少しの時間ずれによっても共分散が大きく変動してしまい、敏感すぎて安定した認識が難しくなることがわかりました。これは、高いサンプリング周波数を使って、1サンプルごとに処理を行わないと認識ができなくなる可能性を示唆しています。こういった処理は、リアルタイム処理には不向きです。\n",
    "\n",
    "その代わりに、音声の主成分を用いて音声を識別することを考えます。主成分は、元の音声信号群を無相関化したもので、機械学習の前処理などによく用いられています。ざっくり言えば、この処理によって**音声の大体の特徴を抽出することができ、細かいタイミングなどの影響が小さくなる**ことが期待できます。"
   ]
  },
  {
   "cell_type": "markdown",
   "metadata": {},
   "source": [
    "### 準備\n",
    "通常攻撃の音声を録音し、ファイルとして用意して`./SFV_SE/`フォルダに格納しておきます。これを読み込んで、正規化し、行列として並べておきます。今回は音声の読み込みに、`soundfile`モジュールを使用しています。"
   ]
  },
  {
   "cell_type": "code",
   "execution_count": 1,
   "metadata": {
    "scrolled": true
   },
   "outputs": [],
   "source": [
    "import matplotlib.pyplot as plt\n",
    "import numpy as np\n",
    "import seaborn as sb\n",
    "import soundfile as sf\n",
    "from sklearn.decomposition import PCA\n",
    "\n",
    "folder = './SFV_SE/'\n",
    "filename = ('LP.wav', 'LK.wav', 'MP.wav', 'MK.wav', 'HP.wav', 'HK.wav')\n",
    "\n",
    "data = [sf.read(folder + k) for k in filename]  # データ, サンプリング周波数を取得\n",
    "data = [data[k][0] for k in range(6)]  # データのみを取得\n",
    "data[5] = data[5][0:-1]  # HKのデータが何故か1個多かったので揃える\n",
    "\n",
    "# 標準偏差が1となるよう正規化\n",
    "v = [np.std(k) for k in data]\n",
    "data = [k/j for k,j in zip(data, v)]\n",
    "\n",
    "# 音声行列生成\n",
    "A = data[0]\n",
    "for j in range(1,6):\n",
    "    A = np.vstack([A,data[j]])"
   ]
  },
  {
   "cell_type": "markdown",
   "metadata": {},
   "source": [
    "### 主成分の算出"
   ]
  },
  {
   "cell_type": "markdown",
   "metadata": {},
   "source": [
    "主成分を求めるために`sklearn`を用いています。2次元の図で表して確認するため、まずは第2主成分まで求めてみます。"
   ]
  },
  {
   "cell_type": "code",
   "execution_count": 2,
   "metadata": {},
   "outputs": [
    {
     "name": "stdout",
     "output_type": "stream",
     "text": [
      "[23.9, 22.3] 46.2\n"
     ]
    },
    {
     "data": {
      "image/png": "[encoded data removed]",
      "text/plain": [
       "<Figure size 432x432 with 1 Axes>"
      ]
     },
     "metadata": {},
     "output_type": "display_data"
    }
   ],
   "source": [
    "# 主成分分析(PCA)\n",
    "cr = []  # 寄与率格納用\n",
    "N_pca = 2\n",
    "pca = PCA(n_components=N_pca)  # PCAオブジェクト生成\n",
    "pca.fit(A)  # PCA（共分散行列の生成＞固有値分解）\n",
    "for k in range(N_pca):\n",
    "    cr.append(round(pca.explained_variance_ratio_[k]*100, 1))  # 第n主成分の寄与率\n",
    "tr = pca.fit_transform(A)  # 行列Aをn次元固有空間に射影\n",
    "print(cr, sum(cr))  # 寄与率, 累積寄与率の表示\n",
    "\n",
    "# プロット\n",
    "sb.set()\n",
    "ax, fig = plt.subplots(figsize=(6,6))\n",
    "plt.scatter(tr[:,0],tr[:,1])\n",
    "plt.xlabel('1st principal component')\n",
    "plt.ylabel('2nd principal component')\n",
    "label = ['LP', 'LK', 'MP', 'MK', 'HP', 'HK']\n",
    "for i,k in enumerate(label):\n",
    "    plt.annotate(k,tr[i])\n"
   ]
  },
  {
   "cell_type": "markdown",
   "metadata": {},
   "source": [
    "横軸と縦軸がそれぞれ、第1主成分と第2主成分を表しています。すでに物理量ではなくなっているので単位はありません。\n",
    "さて、この図ですが、大雑把に言えば**「主成分という尺度で見たときに、お互いがどの程度似ているか」**ということを意味しています。HPはどれとも似ておらず、MPはLKと似ている、といった感じです。一見すると、重ならず程よくばらけているので、例えば新しい音声の成分をここにプロットして、それがどれに近いかを見ることで、音声が識別できそうです。\n",
    "#### 主成分分析の意味\n",
    "打撃音声自体は、人間の耳でもかなり識別が難しい、すなわち、元々互いがよく似ていることは、感覚的におわかりかと思います。ここでは打撃1発分の音声データとして20672点分のデータ（サンプリング周波数は44.1kHz）を使っていますが、この大きな音声データが互いにどの程度似ているかを直接比較することは困難です。むしろ、**情報量が多すぎて、その中に似通ったものがたくさん含まれていることが、識別を困難にする**という側面があります。これは「次元の呪い」と呼ばれます。\n",
    "\n",
    "そこで、識別の前処理として、**別の尺度に置き換えて似通った不要な情報をそぎ落とす**ような処理を加えよう、というのが基本的なアイディアです。主成分分析はそういった処理の一種である、というわけです。\n",
    "#### 累積寄与率\n",
    "また、累積寄与率は100%に近いほど、元の音声データの特徴を残していることになります。ここでは第1,2主成分の累積寄与率は46.2%となっているので、このプロットで表される高々2個の主成分では、元のデータの情報が十分に含まれていないことが懸念されます。\n",
    "#### 第何主成分まで使う？\n",
    "主成分は寄与率が大きい順に並んでいます。この累積寄与率が90%以上になるように選ぶのが一般的なようです。ただ、4以上を選ぶと、上のプロットは4次元グラフとなってしまい図で表せませんので、直観的な評価が難しくなります。特に、お偉いさんに説明するときは大変な困難が予想されます。"
   ]
  },
  {
   "cell_type": "markdown",
   "metadata": {},
   "source": [
    "## まとめ\n",
    "ここでは、主成分分析して音声を識別できそうか、試してみました。プロットから、主成分積を使って音声を識別できる可能性があることがわかりました。次は、実際に録音したゲーム音声で、識別可能性を確認します。"
   ]
  }
 ],
 "metadata": {
  "hide_input": false,
  "kernelspec": {
   "display_name": "Python 3",
   "language": "python",
   "name": "python3"
  },
  "language_info": {
   "codemirror_mode": {
    "name": "ipython",
    "version": 3
   },
   "file_extension": ".py",
   "mimetype": "text/x-python",
   "name": "python",
   "nbconvert_exporter": "python",
   "pygments_lexer": "ipython3",
   "version": "3.6.6"
  },
  "varInspector": {
   "cols": {
    "lenName": 16,
    "lenType": 16,
    "lenVar": 40
   },
   "kernels_config": {
    "python": {
     "delete_cmd_postfix": "",
     "delete_cmd_prefix": "del ",
     "library": "var_list.py",
     "varRefreshCmd": "print(var_dic_list())"
    },
    "r": {
     "delete_cmd_postfix": ") ",
     "delete_cmd_prefix": "rm(",
     "library": "var_list.r",
     "varRefreshCmd": "cat(var_dic_list()) "
    }
   },
   "types_to_exclude": [
    "module",
    "function",
    "builtin_function_or_method",
    "instance",
    "_Feature"
   ],
   "window_display": false
  }
 },
 "nbformat": 4,
 "nbformat_minor": 2
}
